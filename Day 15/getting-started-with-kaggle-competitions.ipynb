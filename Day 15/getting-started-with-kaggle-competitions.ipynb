{
 "cells": [
  {
   "cell_type": "markdown",
   "id": "933b39bd",
   "metadata": {
    "_cell_guid": "b1076dfc-b9ad-4769-8c92-a6c4dae69d19",
    "_uuid": "8f2839f25d086af736a60e9eeb907d3b93b6e0e5",
    "papermill": {
     "duration": 0.007019,
     "end_time": "2021-07-26T17:22:03.371861",
     "exception": false,
     "start_time": "2021-07-26T17:22:03.364842",
     "status": "completed"
    },
    "tags": []
   },
   "source": [
    "Welcome to the competition for the 30 Days of ML program!  This guide will orient you to the competition and help you to make your first submission.\n",
    "\n",
    "You’ll also learn how to best spend your time during the final two weeks of the program."
   ]
  },
  {
   "cell_type": "markdown",
   "id": "599d9f9f",
   "metadata": {
    "papermill": {
     "duration": 0.00668,
     "end_time": "2021-07-26T17:22:03.384643",
     "exception": false,
     "start_time": "2021-07-26T17:22:03.377963",
     "status": "completed"
    },
    "tags": []
   },
   "source": [
    "# Step 1: Browse the competition tabs\n",
    "In this step, you’ll learn how to work with the competition page to answer many important questions you might have.   \n",
    "\n",
    "There are several tabs below the header, including: Overview, Data, Code, Discussion, Leaderboard, and Rules (along with Team, once you accept the competition rules).  \n",
    "\n",
    "![](https://i.imgur.com/hguZ5w7.png)\n",
    "\n",
    "We’ll step through each tab individually.\n",
    "\n",
    "## Overview\n",
    "When you first navigate to any competition page, you will be on the Overview tab.  This tab is good to read first, and it can include important information like:\n",
    "- A high-level description of the data and how you’ll use it in the competition,\n",
    "- How submissions will be evaluated and ranked, \n",
    "- Important dates (like when the competition started, the deadline for accepting the competition rules, and the final submission deadline), and\n",
    "- Prizes the top winners will receive (usually cash or Kaggle merchandise).\n",
    "\n",
    "## Data\n",
    "The Data tab is where you can download the competition data.  You’ll also learn more about the data in more detail than was covered in the Overview tab.\n",
    "\n",
    "A lot of the information here is hidden until after you accept the competition rules.  You’ll accept the rules in Step 2, and then we’ll revisit the Data tab in Step 3 of this guide.\n",
    "\n",
    "## Code\n",
    "You can use the Code tab to view code that other Kagglers have written to analyze the competition data. \n",
    "\n",
    "You are encouraged to use the code here to guide your own investigations.   All of the notebooks that appear here have been shared with the entire community, in the hope that many people can learn from them.\n",
    "\n",
    "When viewing a notebook, you can use the “Copy and Edit” button to create your own, private notebook (only you can see it).  If you edit the code, you’re only editing your copy, and it won’t change the original notebook.  In order to make the notebooks that you write appear in the Code tab for the rest of the community, you’ll need to change the notebook settings to make the notebook public.\n",
    "\n",
    "Whenever you find a notebook useful, you should thank the author by giving the notebook an upvote.\n",
    "\n",
    "You can also use the tab to write your own notebooks to work with the data, through the “New Notebook” button. (If you click on this now and have not yet accepted the competition rules, you’ll first be prompted to read and accept the rules.)\n",
    "\n",
    "![](https://i.imgur.com/CD8DRYq.png)\n",
    "\n",
    "Later in this guide, you’ll learn in more detail how to use the Code section to guide your learning.\n",
    "\n",
    "## Discussion\n",
    "Use this tab to discuss the competition with other Kagglers.  There are three options for discussing the competition. You can:\n",
    "- Chat with the entire Kaggle community by making a post in the Discussion tab, or\n",
    "- Join a team and share your insights with all of your teammates, or\n",
    "- Keep the information to yourself.  \n",
    "\n",
    "You should especially avoid privately sharing information with only a small group of people who aren’t on a team with you (for instance, in a private Slack or Discord channel) - this is considered cheating.  In other words, in order to discuss the competition in a small group, you’ll must join a team with them.  You’ll learn more about how to do this in Step 5.\n",
    "\n",
    "## Leaderboard\n",
    "You’ll use the Leaderboard to see where your submissions rank against other Kagglers.  \n",
    "\n",
    "When you submit competition predictions, the website checks how close your predictions are to the test set’s true values, according to the competition’s metric.  In the case of the competition for the 30 Days of ML program, the metric is root mean squared error (RMSE).  Submissions who get lower RMSE are assigned a higher ranking on the leaderboard.\n",
    "\n",
    "On the Leaderboard page, there are two tabs: Public Leaderboard and Private Leaderboard.  This is because only a subset of your predictions are used to assign a spot on the Public Leaderboard, and the rest are used to assign a spot on the Private Leaderboard.  Which rows are used for which leaderboards are kept secret, and the Private Leaderboard is kept hidden from all competitors until after the competition concludes.  The Private Leaderboard is the “real” leaderboard that is used to decide the final rankings, and it decides who receives competition prizes.\n",
    "\n",
    "![](https://i.imgur.com/eRxlQtD.png)\n",
    "\n",
    "You might be wondering: Why does Kaggle have two leaderboards?  This is to dissuade [overfitting](https://www.kaggle.com/dansbecker/underfitting-and-overfitting) to the Public Leaderboard.   Unlike the Public Leaderboard, the Private Leaderboard is truly unseen, and it provides a good indication of whether or not your model will generalize well to unseen data.\n",
    "\n",
    "## Rules\n",
    "You must accept the rules in order to participate.  The rules govern how many submissions you can make per day, the maximum team size, and other competition-specific details.\n",
    "\n",
    "Feel free to take a quick look at this now.  You’ll take a closer look at this tab in the next step, when you join the competition."
   ]
  },
  {
   "cell_type": "markdown",
   "id": "42de3643",
   "metadata": {
    "papermill": {
     "duration": 0.005248,
     "end_time": "2021-07-26T17:22:03.395664",
     "exception": false,
     "start_time": "2021-07-26T17:22:03.390416",
     "status": "completed"
    },
    "tags": []
   },
   "source": [
    "# Step 2: Join the competition\n",
    "\n",
    "Now, you will join the competition by accepting the rules.  To do this, navigate to the Rules tab.  In some cases (like with the [Titanic competition](https://www.kaggle.com/c/titanic)), the rules will be quite short.\n",
    "If you encounter fairly long competition rules, you’ll want to pay particular attention to:\n",
    "- __Section B7A. Data Access and Use__, which governs how you can access and use the competition data. *For instance, the data from the [BirdCLEF 2021 - Birdcall Identification competition](https://www.kaggle.com/c/birdclef-2021/rules) can only be used for non-commercial purposes.* \n",
    "- __Section A1. Winner License__, which grants the competition sponsor a license for your submission, if you are a competition winner.  *For instance, the code used to generate the winning submission to the [BirdCLEF 2021 - Birdcall Identification competition](https://www.kaggle.com/c/birdclef-2021/rules) will have an open source Initiative-approved license.*\n",
    "\n",
    "If you decide to accept the rules, click on the “I Understand and Accept” button at the top of the page. \n",
    "\n",
    "![](https://i.imgur.com/8DQjFuN.png)"
   ]
  },
  {
   "cell_type": "markdown",
   "id": "35f6226a",
   "metadata": {
    "papermill": {
     "duration": 0.0052,
     "end_time": "2021-07-26T17:22:03.406531",
     "exception": false,
     "start_time": "2021-07-26T17:22:03.401331",
     "status": "completed"
    },
    "tags": []
   },
   "source": [
    "# Step 3: Explore the data\n",
    "After you accept the competition rules, you can use the Data tab to preview the data files.\n",
    "\n",
    "You can also download the data to your computer, if you’d like: just look for the “Download All” button near the bottom of the page.  "
   ]
  },
  {
   "cell_type": "markdown",
   "id": "e8772e8a",
   "metadata": {
    "papermill": {
     "duration": 0.005831,
     "end_time": "2021-07-26T17:22:03.418061",
     "exception": false,
     "start_time": "2021-07-26T17:22:03.412230",
     "status": "completed"
    },
    "tags": []
   },
   "source": [
    "# Step 4: Make your first submission\n",
    "Once you have joined the competition, you’re ready to make your very first submission! \n",
    "\n",
    "The way you submit to the competition will vary with the type of competition.  In this guide, we’ll talk about how to submit to a **Prediction** competition, which is the most common competition type. It’s also the type of competition you’ll participate in as part of the 30 Days of ML program.  The other types of competitions are **Code** competitions (which you can read about [here](https://www.kaggle.com/docs/competitions#notebooks-only-competitions)) and **Simulation** competitions (which you can see an example of [here](https://www.kaggle.com/c/connectx)).\n",
    "\n",
    "Often, some blockers for getting started with a new competition can involve:\n",
    "- figuring out how to access the data within your coding environment, and\n",
    "- determining how to structure a submission in the format that is expected by the competition.\n",
    " \n",
    "The fastest way to learn this information is by creating your own editable copy of a beginner-friendly notebook.   To do this, while viewing a notebook, click on the “Copy and Edit” button.\n",
    "\n",
    "<div class=\"alert alert-block alert-info\"><b>For the 30 Days of ML competition, you’re encouraged to use this <a href=\"https://www.kaggle.com/alexisbcook/getting-started-with-30-days-of-ml-competition/\">Getting Started notebook (click here!)</a> to make your first submission.  Take the time to do this now!</b></div>\n",
    "<p></p>\n",
    "\n",
    "If you use another Kaggler’s notebook to make a submission, it’s good practice to take time to understand any code that you plan to use, and to show your thanks by upvoting the notebook.  If you use someone else’s code (or ideas) in your own notebook, you should carefully cite their contribution.  "
   ]
  },
  {
   "cell_type": "markdown",
   "id": "621daa47",
   "metadata": {
    "papermill": {
     "duration": 0.005431,
     "end_time": "2021-07-26T17:22:03.429282",
     "exception": false,
     "start_time": "2021-07-26T17:22:03.423851",
     "status": "completed"
    },
    "tags": []
   },
   "source": [
    "# Step 5: (Optional) Join a team\n",
    "\n",
    "Once you have accepted the competition rules, you’ll see a Team tab.  If you’re competing alone (that is, if you have not yet joined a team or had another Kaggler join your team), the “Team Name” will be your name, and you will be the only team member.  In other words, if you are working alone, Kaggle still refers to you as a “team”, and you are a team of one person.\n",
    "\n",
    "In general, for any competition, you can find people to work with by making a post in the discussion forum.  For the 30 Days of ML program, you can also make a post in the Discord.\n",
    "\n",
    "To invite another team to merge with yours, you will need to get the other team’s name.  (Note this also works for inviting individuals -- remember all individuals are just a team of one!)  Anyone can get their team name from the Team tab on the competition page. \n",
    "\n",
    "![](https://i.imgur.com/x4lpYfa.png)\n",
    "\n",
    "To merge with another team, type the other team name in to the “Merge teams” section, and hit “Request Merge”.  Only the team leader can do this.\n",
    "\n",
    "You’ll be able to see your request under Pending merge requests.  The other team will also see your merge request under “Teams Proposing a Merge”, where they can choose to accept or reject it.\n",
    "\n",
    "Note that team mergers cannot be undone: in other words, once you join a team, you cannot leave the team for the rest of the competition.  But, for each new competition, you’ll start with a blank slate, where you are initially the only member of your team.  \n",
    "\n",
    "Note that many competitions have a limit on the maximum number of people allowed on a team, and you can get this information from the competition rules.  For the 30 Days of ML competition, the team size is limited to 3.  \n"
   ]
  },
  {
   "cell_type": "markdown",
   "id": "4b872d7e",
   "metadata": {
    "papermill": {
     "duration": 0.005396,
     "end_time": "2021-07-26T17:22:03.440359",
     "exception": false,
     "start_time": "2021-07-26T17:22:03.434963",
     "status": "completed"
    },
    "tags": []
   },
   "source": [
    "# Step 6: Keep learning!\n",
    "\n",
    "Kaggle Competitions are a great way to learn new techniques in data science.  \n",
    "\n",
    "You can learn about new algorithms and approaches from other Kagglers by reading the posts in the Discussion tab.  If you have any questions about the competition, feel free to post your own topic!  As you’re reading the forum posts, if you’re not sure about some of the Kaggle lingo, you’re encouraged to check out [Rachael Tatman’s Youtube video](https://www.youtube.com/watch?v=sEJHyuWKd-s).  If you’d like to get email notifications with each new post, click on the “Follow” button while viewing the Discussion tab.\n",
    "\n",
    "You can peruse code that other users have written in the Code tab.  To make your own code visible to other users, you’ll have to convert it from private to public.  Releasing public code is a great way to contribute new knowledge to the community, to get feedback on your work from other Kagglers, and also to work towards the path to [Notebooks Grandmaster](https://www.kaggle.com/progression).\n",
    "\n",
    "> _To make a notebook public, click on the \"Share\" button (which appears right next to the \"Save Version\" button in the top right of the screen) while editing your notebook.  This will surface a window, where you can toggle a drop-down menu to change the notebook from \"Private\" to \"Public\"._\n",
    "\n",
    "As part of the 30 Days of ML program, you’re strongly encouraged to chat with other Kagglers in the forums and peruse users’ code."
   ]
  },
  {
   "cell_type": "markdown",
   "id": "6283876a",
   "metadata": {
    "papermill": {
     "duration": 0.00547,
     "end_time": "2021-07-26T17:22:03.451622",
     "exception": false,
     "start_time": "2021-07-26T17:22:03.446152",
     "status": "completed"
    },
    "tags": []
   },
   "source": [
    "# Step 7: Prepare for the end of the competition\n",
    "\n",
    "You can ignore this section until the competition is about to close.  (If you’re not sure when competition will close, remember you can find the competition timeline in the Overview tab.)\n",
    "\n",
    "Before the competition closes, you will select up to 2 submissions to count towards your final score on the Private Leaderboard.  All other submissions will be ignored when deciding your ranking.\n",
    "\n",
    "Begin by clicking on “My Submissions” in the competition banner, which will show you all of your submissions.  To select a submission, click on the checkboxes under the “Use For Final Score” column.\n",
    "\n",
    "![](https://i.imgur.com/I6Z1pvH.png)"
   ]
  }
 ],
 "metadata": {
  "kernelspec": {
   "display_name": "Python 3",
   "language": "python",
   "name": "python3"
  },
  "language_info": {
   "codemirror_mode": {
    "name": "ipython",
    "version": 3
   },
   "file_extension": ".py",
   "mimetype": "text/x-python",
   "name": "python",
   "nbconvert_exporter": "python",
   "pygments_lexer": "ipython3",
   "version": "3.7.10"
  },
  "papermill": {
   "default_parameters": {},
   "duration": 8.690212,
   "end_time": "2021-07-26T17:22:04.069503",
   "environment_variables": {},
   "exception": null,
   "input_path": "__notebook__.ipynb",
   "output_path": "__notebook__.ipynb",
   "parameters": {},
   "start_time": "2021-07-26T17:21:55.379291",
   "version": "2.3.3"
  }
 },
 "nbformat": 4,
 "nbformat_minor": 5
}
